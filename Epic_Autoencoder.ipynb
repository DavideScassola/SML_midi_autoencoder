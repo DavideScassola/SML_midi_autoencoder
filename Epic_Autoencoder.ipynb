{
  "nbformat": 4,
  "nbformat_minor": 0,
  "metadata": {
    "colab": {
      "name": "Epic_Autoencoder.ipynb",
      "provenance": [],
      "collapsed_sections": [],
      "include_colab_link": true
    },
    "kernelspec": {
      "name": "python3",
      "display_name": "Python 3"
    },
    "accelerator": "GPU"
  },
  "cells": [
    {
      "cell_type": "markdown",
      "metadata": {
        "id": "view-in-github",
        "colab_type": "text"
      },
      "source": [
        "<a href=\"https://colab.research.google.com/github/DavideScassola/SML_midi_autoencoder/blob/main/Epic_Autoencoder.ipynb\" target=\"_parent\"><img src=\"https://colab.research.google.com/assets/colab-badge.svg\" alt=\"Open In Colab\"/></a>"
      ]
    },
    {
      "cell_type": "code",
      "metadata": {
        "id": "kqnzhLExvi9C",
        "colab": {
          "base_uri": "https://localhost:8080/"
        },
        "outputId": "dda33acd-7b4e-4851-aba1-bbc74ec62bea"
      },
      "source": [
        "!pip install pypianoroll # for generating MIDI files\n",
        "!pip install pygame # for listening pieces (works only in local)"
      ],
      "execution_count": 1,
      "outputs": [
        {
          "output_type": "stream",
          "text": [
            "Collecting pypianoroll\n",
            "  Downloading https://files.pythonhosted.org/packages/0e/2d/c7f1e475127bdae7f4f0e16aa77d77c8be38d40d5c7284479936aa914f2d/pypianoroll-1.0.0-py3-none-any.whl\n",
            "Collecting pretty-midi>=0.2.8\n",
            "\u001b[?25l  Downloading https://files.pythonhosted.org/packages/bc/8e/63c6e39a7a64623a9cd6aec530070c70827f6f8f40deec938f323d7b1e15/pretty_midi-0.2.9.tar.gz (5.6MB)\n",
            "\u001b[K     |████████████████████████████████| 5.6MB 14.0MB/s \n",
            "\u001b[?25hRequirement already satisfied: scipy>=1.0.0 in /usr/local/lib/python3.6/dist-packages (from pypianoroll) (1.4.1)\n",
            "Requirement already satisfied: matplotlib>=1.5 in /usr/local/lib/python3.6/dist-packages (from pypianoroll) (3.2.2)\n",
            "Requirement already satisfied: numpy>=1.12.0 in /usr/local/lib/python3.6/dist-packages (from pypianoroll) (1.18.5)\n",
            "Collecting mido>=1.1.16\n",
            "\u001b[?25l  Downloading https://files.pythonhosted.org/packages/20/0a/81beb587b1ae832ea6a1901dc7c6faa380e8dd154e0a862f0a9f3d2afab9/mido-1.2.9-py2.py3-none-any.whl (52kB)\n",
            "\u001b[K     |████████████████████████████████| 61kB 10.2MB/s \n",
            "\u001b[?25hRequirement already satisfied: six in /usr/local/lib/python3.6/dist-packages (from pretty-midi>=0.2.8->pypianoroll) (1.15.0)\n",
            "Requirement already satisfied: cycler>=0.10 in /usr/local/lib/python3.6/dist-packages (from matplotlib>=1.5->pypianoroll) (0.10.0)\n",
            "Requirement already satisfied: pyparsing!=2.0.4,!=2.1.2,!=2.1.6,>=2.0.1 in /usr/local/lib/python3.6/dist-packages (from matplotlib>=1.5->pypianoroll) (2.4.7)\n",
            "Requirement already satisfied: kiwisolver>=1.0.1 in /usr/local/lib/python3.6/dist-packages (from matplotlib>=1.5->pypianoroll) (1.3.1)\n",
            "Requirement already satisfied: python-dateutil>=2.1 in /usr/local/lib/python3.6/dist-packages (from matplotlib>=1.5->pypianoroll) (2.8.1)\n",
            "Building wheels for collected packages: pretty-midi\n",
            "  Building wheel for pretty-midi (setup.py) ... \u001b[?25l\u001b[?25hdone\n",
            "  Created wheel for pretty-midi: filename=pretty_midi-0.2.9-cp36-none-any.whl size=5591954 sha256=b897425be709e17aa43823f465830918f3274df3bd8c2b76a8f9b29dad2343d7\n",
            "  Stored in directory: /root/.cache/pip/wheels/4c/a1/c6/b5697841db1112c6e5866d75a6b6bf1bef73b874782556ba66\n",
            "Successfully built pretty-midi\n",
            "Installing collected packages: mido, pretty-midi, pypianoroll\n",
            "Successfully installed mido-1.2.9 pretty-midi-0.2.9 pypianoroll-1.0.0\n",
            "Collecting pygame\n",
            "\u001b[?25l  Downloading https://files.pythonhosted.org/packages/87/4c/2ebe8ab1a695a446574bc48d96eb3503649893be8c769e7fafd65fd18833/pygame-2.0.0-cp36-cp36m-manylinux1_x86_64.whl (11.5MB)\n",
            "\u001b[K     |████████████████████████████████| 11.5MB 13.5MB/s \n",
            "\u001b[?25hInstalling collected packages: pygame\n",
            "Successfully installed pygame-2.0.0\n"
          ],
          "name": "stdout"
        }
      ]
    },
    {
      "cell_type": "code",
      "metadata": {
        "id": "S6m4i0dVwbGR",
        "colab": {
          "base_uri": "https://localhost:8080/",
          "height": 156
        },
        "outputId": "cef9631e-97be-46b7-a0da-c43a97fe4364"
      },
      "source": [
        "import random as rararandom\n",
        "from google.colab import drive\n",
        "import pickle\n",
        "import numpy as np\n",
        "import pandas as pd\n",
        "import matplotlib.pyplot as plt\n",
        "import seaborn as sns\n",
        "\n",
        "  \n",
        "beat_len = 24\n",
        "notes_range = 70\n",
        "\n",
        "\n",
        "def load_data(file = \"./drive/My Drive/music.pk\"):\n",
        "  drive.mount('/content/drive')\n",
        "\n",
        "  # This will take same minutes\n",
        "  with open(file, \"rb\") as f:\n",
        "      music_original = pickle.load(f)\n",
        "      \n",
        "  return music_original\n",
        "  \n",
        "\n",
        "def slice_pieces_old(xy_dataset_raw, slice_len):\n",
        "  print(\"\\nSlicing . . .\")\n",
        "  xy_dataset_out = []\n",
        "\n",
        "  for j in xy_dataset_raw:\n",
        "    p = j\n",
        "\n",
        "    n_slices  = (p[\"piece\"].get_shape()[0])//slice_len\n",
        "    slices = [p[\"piece\"][slice_len*i:slice_len*(i+1)] for i in range(n_slices)]\n",
        "\n",
        "    couples = list(zip(slices, [p['one_hot_composer']]*n_slices))\n",
        "    xy_dataset_out = xy_dataset_out + couples\n",
        "  return xy_dataset_out\n",
        "\n",
        "\n",
        "def slice_pieces(xy_dataset_raw, slice_len, offset = 0):\n",
        "  print(\"\\nSlicing . . .\")\n",
        "  xy_dataset_out = []\n",
        "\n",
        "  for j in xy_dataset_raw:\n",
        "    p = j\n",
        "\n",
        "    n_slices  = (p[\"piece\"].get_shape()[0])//slice_len - 1\n",
        "    slices = [p[\"piece\"][slice_len*i+offset:slice_len*(i+1)+offset] for i in range(n_slices)]\n",
        "\n",
        "    couples = list(zip(slices, [p['one_hot_composer']]*n_slices))\n",
        "    xy_dataset_out = xy_dataset_out + couples\n",
        "    \n",
        "  return xy_dataset_out\n",
        "  \n",
        "  \n",
        "def preprocess_data(music_original, discretize = False, filtered_composers = None,\n",
        "                    test_proportion = 0, validation_proportion = 0.1, slice_bars = 8):\n",
        "  \n",
        "  \"\"\"\n",
        "  normalization\n",
        "  \"\"\"\n",
        "  print(\"Normalization . . .\")\n",
        "  for m in music_original:\n",
        "    m[\"piece\"] = m[\"piece\"].tocsr()\n",
        "    m[\"piece\"] = m[\"piece\"].astype(np.float16)\n",
        "    if(discretize):\n",
        "      m[\"piece\"] = (m[\"piece\"] > 0)+0\n",
        "    else:\n",
        "      m[\"piece\"] = m[\"piece\"]/m[\"piece\"].max()\n",
        "  \n",
        "\n",
        "  \"\"\"\n",
        "  Shrinking the notes range\n",
        "  \"\"\"\n",
        "  columns_to_keep = list(range(26,96))\n",
        "  for m in music_original:\n",
        "      m[\"piece\"] = (m[\"piece\"])[:,columns_to_keep]\n",
        "    \n",
        "    \n",
        "    \n",
        "  \"\"\"\n",
        "  See all composers\n",
        "  \"\"\"\n",
        "\n",
        "  from collections import Counter\n",
        "\n",
        "  # this will count the number of pieces for each composer in the random sample\n",
        "  c = Counter([i[\"composer\"] for i in music_original]).items()\n",
        "\n",
        "  # list of all composers\n",
        "  composers = [item[0] for item in c]\n",
        "  n_composers =  len(composers)\n",
        "\n",
        "  print(c)\n",
        "\n",
        "\n",
        "\n",
        "  \"\"\"\n",
        "  remove some composers\n",
        "  \"\"\"\n",
        "\n",
        "  if(filtered_composers == None):\n",
        "    music = music_original\n",
        "    \n",
        "  else:\n",
        "    composers = filtered_composers\n",
        "    music = [m for m in music_original if m[\"composer\"] in composers]\n",
        "    n_composers =  len(composers)\n",
        "    Counter([i[\"composer\"] for i in music]).items()\n",
        "  \n",
        "\n",
        "  \"\"\"\n",
        "  One hot encoding and create labels\n",
        "  \"\"\"\n",
        "  print(\"One hot encoding . . .\")\n",
        "  def encode_composer(name):\n",
        "    encoding = np.zeros((n_composers))\n",
        "    encoding[composers.index(name)] = 1\n",
        "    return encoding\n",
        "\n",
        "  def decode_composer(ohe):\n",
        "    return composers[np.argmax(ohe)]\n",
        "\n",
        "  for m in music:\n",
        "    m['one_hot_composer'] = encode_composer(m['composer'])\n",
        "\n",
        "\n",
        "  \"\"\"\n",
        "  split train set and test set (randomic)\n",
        "  \"\"\"\n",
        "\n",
        "  train_proportion = 1-test_proportion\n",
        "\n",
        "  total_size = len(music)\n",
        "  train_size = int(total_size * train_proportion)\n",
        "  validation_size = int(train_size*validation_proportion)\n",
        "\n",
        "  rararandom.Random(1996).shuffle(music)\n",
        "\n",
        "  xy_validation_raw = music[0:validation_size]\n",
        "  xy_train_raw = music[validation_size:train_size]\n",
        "  xy_test_raw = music[train_size:]\n",
        "  \n",
        "  \n",
        "  \"\"\"\n",
        "  slice the pieces (same length)\n",
        "  \"\"\"\n",
        "  notes_range = 70\n",
        "  beat_len = 24\n",
        "\n",
        "  slice_len = beat_len*slice_bars*4\n",
        "\n",
        "  xy_validation = slice_pieces(xy_validation_raw, slice_len)\n",
        "  xy_train = slice_pieces(xy_train_raw, slice_len)\n",
        "  xy_test = slice_pieces(xy_test_raw, slice_len)\n",
        "  \n",
        "  \n",
        "  \"\"\"\n",
        "  Dividing x and y\n",
        "  \"\"\"\n",
        "    \n",
        "  x_validation = [e[0] for e in xy_validation]\n",
        "  y_validation = [e[1] for e in xy_validation]\n",
        "\n",
        "  x_train = [e[0] for e in xy_train]\n",
        "  y_train = [e[1] for e in xy_train]\n",
        "\n",
        "  x_test = [e[0] for e in xy_test]\n",
        "  y_test = [e[1] for e in xy_test]\n",
        "  \n",
        "  print(\"slice shape is:\", x_train[0].shape, \"bars: \", slice_len/(4*24))\n",
        "  print(\"there are %d slices in the train set\" % len(x_train))\n",
        "  print(\"there are %d slices in the validation set\" % len(x_validation))\n",
        "  print(\"and %d slices in the test set\" % len(x_test))\n",
        "  \n",
        "  return (composers, x_train, y_train, x_validation, y_validation, x_test, y_test, xy_train_raw)\n",
        "  \n",
        "  \n",
        "  \n",
        "def batch_generator(X_data, batch_size, discretize = False):\n",
        "  nb_batches = len(X_data)//batch_size\n",
        "  sl = X_data[0].shape[0]\n",
        "  counter = 0\n",
        "  epochs = 0\n",
        "  \n",
        "  while True:\n",
        "    #print(\"counter: \", counter, nb_batches)\n",
        "    if(counter == nb_batches):\n",
        "      epochs += 1 \n",
        "      counter = 0\n",
        "      rararandom.shuffle(X_data)\n",
        "      #X_data = periodical_slicing(train_raw = xy_train_raw, offset_beats = ((epochs%3)*4))\n",
        "      \n",
        "    batch_X = []\n",
        "    for i in range(counter*batch_size, (counter+1)*batch_size):\n",
        "      if(discretize):\n",
        "        batch_X.append( ((X_data[i]>0)+0).todense())\n",
        "      else:\n",
        "        batch_X.append( X_data[i].todense())\n",
        "    counter = (counter + 1)\n",
        "    batch_X = np.array(batch_X)\n",
        "    if(discretize):\n",
        "      batch_X = (batch_X>0)+0\n",
        "      \n",
        "    yield( batch_X, batch_X )\n",
        "    \n",
        "    \n",
        "    \n",
        "from random import randrange\n",
        "\n",
        "\n",
        "def random_slice_batch_generator(Xy_data, batch_size = 32, discretize = False, penalization = 0, shift_a_bar = False):\n",
        "  \n",
        "  curr_Xy_data = slice_pieces(Xy_data, slice_len, offset = 0)\n",
        "  X_data = [e[0] for e in curr_Xy_data]\n",
        "\n",
        "  \n",
        "  nb_batches = len(X_data)//batch_size\n",
        "  counter = 0\n",
        "  epochs = 0\n",
        "  \n",
        "  while True:\n",
        "    if(counter == nb_batches):\n",
        "      if(shift_a_bar):\n",
        "        offset = randrange(slice_len//(96))*96 # Random integer offset.\n",
        "      else:\n",
        "        offset = randrange(slice_len//12)*12 # Random integer offset.\n",
        "      curr_Xy_data = slice_pieces(Xy_data, slice_len, offset)\n",
        "      X_data = [e[0] for e in curr_Xy_data]\n",
        "      epochs += 1 \n",
        "      counter = 0\n",
        "      rararandom.Random(epochs).shuffle(X_data)\n",
        "      \n",
        "    batch_X = []\n",
        "    for i in range(counter*batch_size, (counter+1)*batch_size):\n",
        "      batch_X.append( X_data[i].todense() )\n",
        "    counter = (counter + 1)\n",
        "    batch_X = np.array(batch_X)\n",
        "    if(discretize):\n",
        "      batch_X = (batch_X>0)+0\n",
        "    if(penalization>0):\n",
        "      batch_X += (batch_X==0)*(-penalization)\n",
        "    yield( batch_X, batch_X )\n",
        "    \n",
        "    \n",
        "    \n",
        "    \n",
        "    \n",
        "def compile_and_fit(model, train_data,val_data, epochs, batch_size, loss, metrics, optimizer, path, save = False, load = False, augmentation = None, discretize = False, penalization=0, shift_a_bar = False):\n",
        "  \n",
        "  model.compile(loss=loss, metrics=metrics, optimizer=optimizer)\n",
        "  \n",
        "  if(load):\n",
        "    model.load_weights(path)\n",
        "  \n",
        "  checkpoint = ModelCheckpoint(path, monitor='val_loss', verbose=1, save_best_only=True, mode='min')\n",
        "\n",
        "  call = []\n",
        "  \n",
        "  if(save):\n",
        "    call = [checkpoint]\n",
        "    \n",
        "  print(model.summary())\n",
        "  \n",
        "  my_generation = None\n",
        "  \n",
        "  if(augmentation!=None):\n",
        "    my_generation = random_slice_batch_generator(augmentation, batch_size , discretize, penalization, shift_a_bar)\n",
        "  else:\n",
        "    my_generation=batch_generator(train_data, batch_size, penalization)\n",
        "    \n",
        "  steps = len(train_data)//batch_size\n",
        "  if(augmentation!=None):\n",
        "    steps = steps\n",
        "    \n",
        "  \n",
        "  history = model.fit_generator(generator=my_generation,\n",
        "                      nb_epoch=epochs, steps_per_epoch=steps,\n",
        "                      validation_data = batch_generator(val_data, batch_size, discretize),\n",
        "                      validation_steps=len(val_data)//batch_size, callbacks = call)\n",
        "  \n",
        "  return history\n",
        "    \n",
        "    \n",
        "    \n",
        "    \n",
        "    \n",
        "    \n",
        "    \n",
        "    \n",
        "    \n",
        "\"\"\"\n",
        "This code is just for writing down MIDI files and if you are in local, listen to them\n",
        "\"\"\"\n",
        "\n",
        "\n",
        "% pylab inline\n",
        "from pypianoroll import Multitrack, Track\n",
        "import pygame\n",
        "from sklearn.preprocessing import StandardScaler\n",
        "from sklearn.decomposition import PCA as sklearnPCA\n",
        "\n",
        "def write_midi(arr, filename):\n",
        "    Multitrack(tracks=[Track(arr*127)]).write(filename)\n",
        "    \n",
        "def write_cutted_midi(arr, filename):\n",
        "    x = np.zeros((arr.shape[0],128))\n",
        "    x[:,list(range(26,96))] = arr\n",
        "    Multitrack(tracks=[Track(x*127)]).write(filename)\n",
        "\n",
        "def clean(x, soil = 0.5):\n",
        "  return (x>soil)+0\n",
        "\n",
        "\n",
        "\"\"\"\n",
        "Checking reconstruction\n",
        "\"\"\"\n",
        "\n",
        "def pred(model, data):\n",
        "  return model.predict(np.array(data.todense()).reshape((1,slice_len, notes_range)))\n",
        "\n",
        "def reconstruct(autoenc,piece, threshold = 0):\n",
        "  y = pred(autoenc, piece).reshape((slice_len, notes_range))\n",
        "  y = clean(y, threshold)\n",
        "  write_cutted_midi(piece.todense(), \"prova_original\")\n",
        "  write_cutted_midi(y, \"prova_reconstructed\")\n",
        "  \n",
        "  fig = plt.figure()\n",
        "  a = fig.add_subplot(1, 1, 1)\n",
        "  imgplot = plt.imshow(piece.todense().T)\n",
        "\n",
        "  a = fig.add_subplot(2, 1, 1)\n",
        "  imgplot = plt.imshow(y.T)\n",
        "  \n",
        "  \n",
        "\"\"\"\n",
        "Generation routine\n",
        "\"\"\"\n",
        "\n",
        "def encode(encoder, piece):\n",
        "  return encoder.predict(np.array(piece.todense()).reshape((1,slice_len, notes_range)))\n",
        "\n",
        "def decode(decoder, encoded_piece):\n",
        "  z_size = decoder.get_input_shape_at(1)[1]\n",
        "  return decoder.predict(encoded_piece.reshape(1,1,z_size)).reshape(slice_len, notes_range)\n",
        "\n",
        "def generation_preprocessing(encoder, decoder, data, BATCH_SIZE = 50, p = 1):\n",
        "  \n",
        "  \"\"\"\n",
        "  Encodig all the pieces\n",
        "  \"\"\"\n",
        "  \n",
        "  entire_dataset = data\n",
        "  z_size = encode(encoder, entire_dataset[0]).shape[1]\n",
        "  print(\"latent space:\", z_size)\n",
        "  print(\"encoding all the pieces . . .\")\n",
        "  steps_required = len(entire_dataset)//BATCH_SIZE\n",
        "  encoded_dataset = encoder.predict_generator(batch_generator(entire_dataset,BATCH_SIZE), steps=steps_required, verbose=1)\n",
        "  #encoded_dataset = [encode(encoder, p) for p in entire_dataset]\n",
        "\n",
        "  encoded_dataset = np.array(encoded_dataset)\n",
        "  \n",
        "  \n",
        "  \"\"\"\n",
        "  PCA\n",
        "  \"\"\"\n",
        "\n",
        "  # Standardize\n",
        "  #X_std = StandardScaler().fit_transform(encoded_dataset)\n",
        "\n",
        "  sklearn_pca = sklearnPCA(n_components = z_size)\n",
        "  Y_sklearn = sklearn_pca.fit_transform(encoded_dataset)\n",
        "  \n",
        "  \n",
        "  #encoded_dataset.shape\n",
        "  \n",
        "  plot(sklearn_pca.explained_variance_ratio_)\n",
        "  cumulative_expl_ratio = [sum(sklearn_pca.explained_variance_ratio_[0:i]) for i in range(1,z_size)]\n",
        "  plot(cumulative_expl_ratio)\n",
        "\n",
        "  pca_importance = np.std(Y_sklearn, axis = 0)\n",
        "  \n",
        "  def generate_music(firsts_components, normalized_input = True, pca = True):\n",
        "    \n",
        "    z = np.zeros((z_size))\n",
        "    n = len(firsts_components)\n",
        "    z[0:n] = firsts_components\n",
        "    \n",
        "    if(pca):   \n",
        "      if(normalized_input):\n",
        "        z = z*pca_importance\n",
        "      z = sklearn_pca.inverse_transform(z)\n",
        "\n",
        "    piece = decode(decoder, z)\n",
        "    \n",
        "    return piece\n",
        "\n",
        "\n",
        "  def create_music(firsts_components, name = \"HoneyBadgersMusic\", threshold = 0.1, pca = True):\n",
        "    piece = generate_music(firsts_components, normalized_input = True, pca = pca)\n",
        "    piece = clean(piece, threshold)\n",
        "    write_cutted_midi(piece, name)\n",
        "    imshow(piece.T)\n",
        "    \n",
        "  def create_random_music(name = \"random_music\", threshold = 0.1, pca = True, seed = 0):\n",
        "    #numpy.random.seed(seed)\n",
        "    firsts_components = np.random.normal(0,1,z_size)\n",
        "    create_music(firsts_components, name, threshold, pca)\n",
        "    \n",
        "    \n",
        "  return (generate_music, create_music, create_random_music, Y_sklearn)\n",
        "\n"
      ],
      "execution_count": null,
      "outputs": [
        {
          "output_type": "stream",
          "text": [
            "Populating the interactive namespace from numpy and matplotlib\n",
            "Imageio: 'ffmpeg-linux64-v3.3.1' was not found on your computer; downloading it now.\n",
            "Try 1. Download from https://github.com/imageio/imageio-binaries/raw/master/ffmpeg/ffmpeg-linux64-v3.3.1 (43.8 MB)\n",
            "Downloading: 8192/45929032 bytes (0.0%)\b\b\b\b\b\b\b\b\b\b\b\b\b\b\b\b\b\b\b\b\b\b\b\b\b\b3375104/45929032 bytes (7.3%)\b\b\b\b\b\b\b\b\b\b\b\b\b\b\b\b\b\b\b\b\b\b\b\b\b\b\b\b\b7069696/45929032 bytes (15.4%)\b\b\b\b\b\b\b\b\b\b\b\b\b\b\b\b\b\b\b\b\b\b\b\b\b\b\b\b\b\b10625024/45929032 bytes (23.1%)\b\b\b\b\b\b\b\b\b\b\b\b\b\b\b\b\b\b\b\b\b\b\b\b\b\b\b\b\b\b\b14229504/45929032 bytes (31.0%)\b\b\b\b\b\b\b\b\b\b\b\b\b\b\b\b\b\b\b\b\b\b\b\b\b\b\b\b\b\b\b17907712/45929032 bytes (39.0%)\b\b\b\b\b\b\b\b\b\b\b\b\b\b\b\b\b\b\b\b\b\b\b\b\b\b\b\b\b\b\b21504000/45929032 bytes (46.8%)\b\b\b\b\b\b\b\b\b\b\b\b\b\b\b\b\b\b\b\b\b\b\b\b\b\b\b\b\b\b\b25378816/45929032 bytes (55.3%)\b\b\b\b\b\b\b\b\b\b\b\b\b\b\b\b\b\b\b\b\b\b\b\b\b\b\b\b\b\b\b29196288/45929032 bytes (63.6%)\b\b\b\b\b\b\b\b\b\b\b\b\b\b\b\b\b\b\b\b\b\b\b\b\b\b\b\b\b\b\b32882688/45929032 bytes (71.6%)\b\b\b\b\b\b\b\b\b\b\b\b\b\b\b\b\b\b\b\b\b\b\b\b\b\b\b\b\b\b\b36708352/45929032 bytes (79.9%)\b\b\b\b\b\b\b\b\b\b\b\b\b\b\b\b\b\b\b\b\b\b\b\b\b\b\b\b\b\b\b40460288/45929032 bytes (88.1%)\b\b\b\b\b\b\b\b\b\b\b\b\b\b\b\b\b\b\b\b\b\b\b\b\b\b\b\b\b\b\b43958272/45929032 bytes (95.7%)\b\b\b\b\b\b\b\b\b\b\b\b\b\b\b\b\b\b\b\b\b\b\b\b\b\b\b\b\b\b\b45929032/45929032 bytes (100.0%)\n",
            "  Done\n",
            "File saved as /root/.imageio/ffmpeg/ffmpeg-linux64-v3.3.1.\n",
            "pygame 1.9.6\n",
            "Hello from the pygame community. https://www.pygame.org/contribute.html\n"
          ],
          "name": "stdout"
        }
      ]
    },
    {
      "cell_type": "code",
      "metadata": {
        "id": "uSW0YLjEqIC9",
        "colab": {
          "base_uri": "https://localhost:8080/",
          "height": 124
        },
        "outputId": "0b012071-d4d3-4d14-8934-2def5887f965"
      },
      "source": [
        "music_original = load_data(file = \"./drive/My Drive/music.pk\")"
      ],
      "execution_count": null,
      "outputs": [
        {
          "output_type": "stream",
          "text": [
            "Go to this URL in a browser: https://accounts.google.com/o/oauth2/auth?client_id=947318989803-6bn6qk8qdgf4n4g3pfee6491hc0brc4i.apps.googleusercontent.com&redirect_uri=urn%3Aietf%3Awg%3Aoauth%3A2.0%3Aoob&scope=email%20https%3A%2F%2Fwww.googleapis.com%2Fauth%2Fdocs.test%20https%3A%2F%2Fwww.googleapis.com%2Fauth%2Fdrive%20https%3A%2F%2Fwww.googleapis.com%2Fauth%2Fdrive.photos.readonly%20https%3A%2F%2Fwww.googleapis.com%2Fauth%2Fpeopleapi.readonly&response_type=code\n",
            "\n",
            "Enter your authorization code:\n",
            "··········\n",
            "Mounted at /content/drive\n"
          ],
          "name": "stdout"
        }
      ]
    },
    {
      "cell_type": "code",
      "metadata": {
        "id": "vqwgby0kMMcG",
        "colab": {
          "base_uri": "https://localhost:8080/",
          "height": 364
        },
        "outputId": "1cf19ea8-c5d9-48fc-a69b-53f62ee16732"
      },
      "source": [
        "DISCRETIZE = False\n",
        "VALIDATION_PROPORTION = 0.1 # of the train\n",
        "TEST_PROPORTION = 0\n",
        "N_BARS = 8\n",
        "FILTERED_COMPOSERS = None #['Schubert'] #['Beethoven']\n",
        "slice_len = N_BARS*beat_len*4\n",
        "\n",
        "composers,x_train,y_train,x_validation,y_validation,x_test,y_test, xy_train_raw = preprocess_data(\n",
        "    music_original,\n",
        "    discretize = DISCRETIZE,\n",
        "    filtered_composers = FILTERED_COMPOSERS,\n",
        "    test_proportion = TEST_PROPORTION,\n",
        "    validation_proportion = VALIDATION_PROPORTION,\n",
        "    slice_bars = N_BARS)"
      ],
      "execution_count": null,
      "outputs": [
        {
          "output_type": "stream",
          "text": [
            "Normalization . . .\n"
          ],
          "name": "stdout"
        },
        {
          "output_type": "error",
          "ename": "IndexError",
          "evalue": "ignored",
          "traceback": [
            "\u001b[0;31m---------------------------------------------------------------------------\u001b[0m",
            "\u001b[0;31mIndexError\u001b[0m                                Traceback (most recent call last)",
            "\u001b[0;32m<ipython-input-36-7019447b1cfa>\u001b[0m in \u001b[0;36m<module>\u001b[0;34m()\u001b[0m\n\u001b[1;32m     12\u001b[0m     \u001b[0mtest_proportion\u001b[0m \u001b[0;34m=\u001b[0m \u001b[0mTEST_PROPORTION\u001b[0m\u001b[0;34m,\u001b[0m\u001b[0;34m\u001b[0m\u001b[0;34m\u001b[0m\u001b[0m\n\u001b[1;32m     13\u001b[0m     \u001b[0mvalidation_proportion\u001b[0m \u001b[0;34m=\u001b[0m \u001b[0mVALIDATION_PROPORTION\u001b[0m\u001b[0;34m,\u001b[0m\u001b[0;34m\u001b[0m\u001b[0;34m\u001b[0m\u001b[0m\n\u001b[0;32m---> 14\u001b[0;31m     slice_bars = N_BARS)\n\u001b[0m",
            "\u001b[0;32m<ipython-input-2-4aeb32789973>\u001b[0m in \u001b[0;36mpreprocess_data\u001b[0;34m(music_original, discretize, filtered_composers, test_proportion, validation_proportion, slice_bars)\u001b[0m\n\u001b[1;32m     74\u001b[0m   \u001b[0mcolumns_to_keep\u001b[0m \u001b[0;34m=\u001b[0m \u001b[0mlist\u001b[0m\u001b[0;34m(\u001b[0m\u001b[0mrange\u001b[0m\u001b[0;34m(\u001b[0m\u001b[0;36m26\u001b[0m\u001b[0;34m,\u001b[0m\u001b[0;36m96\u001b[0m\u001b[0;34m)\u001b[0m\u001b[0;34m)\u001b[0m\u001b[0;34m\u001b[0m\u001b[0;34m\u001b[0m\u001b[0m\n\u001b[1;32m     75\u001b[0m   \u001b[0;32mfor\u001b[0m \u001b[0mm\u001b[0m \u001b[0;32min\u001b[0m \u001b[0mmusic_original\u001b[0m\u001b[0;34m:\u001b[0m\u001b[0;34m\u001b[0m\u001b[0;34m\u001b[0m\u001b[0m\n\u001b[0;32m---> 76\u001b[0;31m       \u001b[0mm\u001b[0m\u001b[0;34m[\u001b[0m\u001b[0;34m\"piece\"\u001b[0m\u001b[0;34m]\u001b[0m \u001b[0;34m=\u001b[0m \u001b[0;34m(\u001b[0m\u001b[0mm\u001b[0m\u001b[0;34m[\u001b[0m\u001b[0;34m\"piece\"\u001b[0m\u001b[0;34m]\u001b[0m\u001b[0;34m)\u001b[0m\u001b[0;34m[\u001b[0m\u001b[0;34m:\u001b[0m\u001b[0;34m,\u001b[0m\u001b[0mcolumns_to_keep\u001b[0m\u001b[0;34m]\u001b[0m\u001b[0;34m\u001b[0m\u001b[0;34m\u001b[0m\u001b[0m\n\u001b[0m\u001b[1;32m     77\u001b[0m \u001b[0;34m\u001b[0m\u001b[0m\n\u001b[1;32m     78\u001b[0m \u001b[0;34m\u001b[0m\u001b[0m\n",
            "\u001b[0;32m/usr/local/lib/python3.6/dist-packages/scipy/sparse/_index.py\u001b[0m in \u001b[0;36m__getitem__\u001b[0;34m(self, key)\u001b[0m\n\u001b[1;32m     33\u001b[0m     \"\"\"\n\u001b[1;32m     34\u001b[0m     \u001b[0;32mdef\u001b[0m \u001b[0m__getitem__\u001b[0m\u001b[0;34m(\u001b[0m\u001b[0mself\u001b[0m\u001b[0;34m,\u001b[0m \u001b[0mkey\u001b[0m\u001b[0;34m)\u001b[0m\u001b[0;34m:\u001b[0m\u001b[0;34m\u001b[0m\u001b[0;34m\u001b[0m\u001b[0m\n\u001b[0;32m---> 35\u001b[0;31m         \u001b[0mrow\u001b[0m\u001b[0;34m,\u001b[0m \u001b[0mcol\u001b[0m \u001b[0;34m=\u001b[0m \u001b[0mself\u001b[0m\u001b[0;34m.\u001b[0m\u001b[0m_validate_indices\u001b[0m\u001b[0;34m(\u001b[0m\u001b[0mkey\u001b[0m\u001b[0;34m)\u001b[0m\u001b[0;34m\u001b[0m\u001b[0;34m\u001b[0m\u001b[0m\n\u001b[0m\u001b[1;32m     36\u001b[0m         \u001b[0;31m# Dispatch to specialized methods.\u001b[0m\u001b[0;34m\u001b[0m\u001b[0;34m\u001b[0m\u001b[0;34m\u001b[0m\u001b[0m\n\u001b[1;32m     37\u001b[0m         \u001b[0;32mif\u001b[0m \u001b[0misinstance\u001b[0m\u001b[0;34m(\u001b[0m\u001b[0mrow\u001b[0m\u001b[0;34m,\u001b[0m \u001b[0mINT_TYPES\u001b[0m\u001b[0;34m)\u001b[0m\u001b[0;34m:\u001b[0m\u001b[0;34m\u001b[0m\u001b[0;34m\u001b[0m\u001b[0m\n",
            "\u001b[0;32m/usr/local/lib/python3.6/dist-packages/scipy/sparse/_index.py\u001b[0m in \u001b[0;36m_validate_indices\u001b[0;34m(self, key)\u001b[0m\n\u001b[1;32m    147\u001b[0m                 \u001b[0mcol\u001b[0m \u001b[0;34m+=\u001b[0m \u001b[0mN\u001b[0m\u001b[0;34m\u001b[0m\u001b[0;34m\u001b[0m\u001b[0m\n\u001b[1;32m    148\u001b[0m         \u001b[0;32melif\u001b[0m \u001b[0;32mnot\u001b[0m \u001b[0misinstance\u001b[0m\u001b[0;34m(\u001b[0m\u001b[0mcol\u001b[0m\u001b[0;34m,\u001b[0m \u001b[0mslice\u001b[0m\u001b[0;34m)\u001b[0m\u001b[0;34m:\u001b[0m\u001b[0;34m\u001b[0m\u001b[0;34m\u001b[0m\u001b[0m\n\u001b[0;32m--> 149\u001b[0;31m             \u001b[0mcol\u001b[0m \u001b[0;34m=\u001b[0m \u001b[0mself\u001b[0m\u001b[0;34m.\u001b[0m\u001b[0m_asindices\u001b[0m\u001b[0;34m(\u001b[0m\u001b[0mcol\u001b[0m\u001b[0;34m,\u001b[0m \u001b[0mN\u001b[0m\u001b[0;34m)\u001b[0m\u001b[0;34m\u001b[0m\u001b[0;34m\u001b[0m\u001b[0m\n\u001b[0m\u001b[1;32m    150\u001b[0m \u001b[0;34m\u001b[0m\u001b[0m\n\u001b[1;32m    151\u001b[0m         \u001b[0;32mreturn\u001b[0m \u001b[0mrow\u001b[0m\u001b[0;34m,\u001b[0m \u001b[0mcol\u001b[0m\u001b[0;34m\u001b[0m\u001b[0;34m\u001b[0m\u001b[0m\n",
            "\u001b[0;32m/usr/local/lib/python3.6/dist-packages/scipy/sparse/_index.py\u001b[0m in \u001b[0;36m_asindices\u001b[0;34m(self, idx, length)\u001b[0m\n\u001b[1;32m    170\u001b[0m         \u001b[0mmax_indx\u001b[0m \u001b[0;34m=\u001b[0m \u001b[0mx\u001b[0m\u001b[0;34m.\u001b[0m\u001b[0mmax\u001b[0m\u001b[0;34m(\u001b[0m\u001b[0;34m)\u001b[0m\u001b[0;34m\u001b[0m\u001b[0;34m\u001b[0m\u001b[0m\n\u001b[1;32m    171\u001b[0m         \u001b[0;32mif\u001b[0m \u001b[0mmax_indx\u001b[0m \u001b[0;34m>=\u001b[0m \u001b[0mlength\u001b[0m\u001b[0;34m:\u001b[0m\u001b[0;34m\u001b[0m\u001b[0;34m\u001b[0m\u001b[0m\n\u001b[0;32m--> 172\u001b[0;31m             \u001b[0;32mraise\u001b[0m \u001b[0mIndexError\u001b[0m\u001b[0;34m(\u001b[0m\u001b[0;34m'index (%d) out of range'\u001b[0m \u001b[0;34m%\u001b[0m \u001b[0mmax_indx\u001b[0m\u001b[0;34m)\u001b[0m\u001b[0;34m\u001b[0m\u001b[0;34m\u001b[0m\u001b[0m\n\u001b[0m\u001b[1;32m    173\u001b[0m \u001b[0;34m\u001b[0m\u001b[0m\n\u001b[1;32m    174\u001b[0m         \u001b[0mmin_indx\u001b[0m \u001b[0;34m=\u001b[0m \u001b[0mx\u001b[0m\u001b[0;34m.\u001b[0m\u001b[0mmin\u001b[0m\u001b[0;34m(\u001b[0m\u001b[0;34m)\u001b[0m\u001b[0;34m\u001b[0m\u001b[0;34m\u001b[0m\u001b[0m\n",
            "\u001b[0;31mIndexError\u001b[0m: index (95) out of range"
          ]
        }
      ]
    },
    {
      "cell_type": "code",
      "metadata": {
        "id": "M7tdsXB3VHAp",
        "colab": {
          "base_uri": "https://localhost:8080/",
          "height": 34
        },
        "outputId": "078ecc09-51e6-427a-d89b-e45be61b9c61"
      },
      "source": [
        "\"\"\"\n",
        "Build the model\n",
        "\"\"\"\n",
        "\n",
        "from keras.models import Sequential, Model\n",
        "from keras.layers import Dense, LSTM, GRU, Input, Lambda, Dropout, BatchNormalization\n",
        "from keras.layers import CuDNNLSTM, CuDNNGRU,TimeDistributed, BatchNormalization\n",
        "from keras.layers import Dense, Conv2D, MaxPool2D, Flatten, Activation, Reshape,RepeatVector\n",
        "from keras.optimizers import Adam, RMSprop, SGD\n",
        "from keras.callbacks import ModelCheckpoint\n",
        "from keras.losses import binary_crossentropy, mse\n",
        "from keras import backend as K\n",
        "import tensorflow as tf\n",
        "  "
      ],
      "execution_count": null,
      "outputs": [
        {
          "output_type": "stream",
          "text": [
            "Using TensorFlow backend.\n"
          ],
          "name": "stderr"
        }
      ]
    },
    {
      "cell_type": "code",
      "metadata": {
        "id": "oBS28WuIlKDn",
        "colab": {
          "base_uri": "https://localhost:8080/",
          "height": 159
        },
        "outputId": "b3c9c17c-c060-41d2-de60-081a739f5520"
      },
      "source": [
        "\"\"\"\n",
        "benchmark model\n",
        "\"\"\"\n",
        "bench = Sequential()\n",
        "bench.add(TimeDistributed(Dense(notes_range, activation = 'relu'),input_shape=(slice_len,notes_range)))\n",
        "\n",
        "compile_and_fit(\n",
        "    model = bench,\n",
        "    train_data = x_train,\n",
        "    val_data = x_validation,\n",
        "    epochs = 25,\n",
        "    batch_size = 100,\n",
        "    loss = 'binary_crossentropy',\n",
        "    metrics = [\"mse\"],\n",
        "    optimizer = \"adam\",\n",
        "    path = \"./drive/My Drive/stupid.hdf5\",\n",
        "    save = False,\n",
        "    load = False,\n",
        "    augmentation = xy_train_raw,\n",
        "    discretize = True)"
      ],
      "execution_count": null,
      "outputs": [
        {
          "output_type": "stream",
          "text": [
            "WARNING: Logging before flag parsing goes to stderr.\n",
            "W0713 10:34:39.162244 140171040073600 deprecation_wrapper.py:119] From /usr/local/lib/python3.6/dist-packages/keras/backend/tensorflow_backend.py:74: The name tf.get_default_graph is deprecated. Please use tf.compat.v1.get_default_graph instead.\n",
            "\n",
            "W0713 10:34:39.202934 140171040073600 deprecation_wrapper.py:119] From /usr/local/lib/python3.6/dist-packages/keras/backend/tensorflow_backend.py:517: The name tf.placeholder is deprecated. Please use tf.compat.v1.placeholder instead.\n",
            "\n",
            "W0713 10:34:39.209408 140171040073600 deprecation_wrapper.py:119] From /usr/local/lib/python3.6/dist-packages/keras/backend/tensorflow_backend.py:4138: The name tf.random_uniform is deprecated. Please use tf.random.uniform instead.\n",
            "\n"
          ],
          "name": "stderr"
        }
      ]
    },
    {
      "cell_type": "code",
      "metadata": {
        "id": "CIs2FhRhekqJ",
        "colab": {
          "base_uri": "https://localhost:8080/",
          "height": 245
        },
        "outputId": "94fa2017-e4ef-413a-f964-58a6425ccd79"
      },
      "source": [
        "\"\"\"\n",
        "Crazy architecture\n",
        "\"\"\"\n",
        "\n",
        "\n",
        "HIDDEN_UNITS = 200\n",
        "DO_RATE = 0.1\n",
        "BN_M = 0.9\n",
        "\n",
        "BN_M = 0.9\n",
        "LR = 0.001\n",
        "\n",
        "n_bars = slice_len//(beat_len*4)\n",
        "n_bars*=1\n",
        "time_steps_in_a_bar = slice_len//n_bars\n",
        "act = \"relu\"\n",
        "\n",
        "intermediate = 500\n",
        "\n",
        "\n",
        "x_in = Input(shape=(slice_len,notes_range))\n",
        "x = Reshape((n_bars, notes_range*time_steps_in_a_bar))(x_in)\t\t\n",
        "x = TimeDistributed(Dense(2800, activation=act))(x)\n",
        "#x = TimeDistributed(Dense(1000, activation=act))(x)\n",
        "x = TimeDistributed(Dense(intermediate, activation=act))(x)\n",
        "x = Flatten()(x)\n",
        "pre_z = Dense(2000, activation=act)(x)\n",
        "\n",
        "  \n",
        "z = Dense(HIDDEN_UNITS)(pre_z)\n",
        "z = BatchNormalization(momentum=BN_M, name='pre_encoder')(z)\n",
        "\n",
        "\n",
        "# Encoder Definition\n",
        "encoder = Model(x_in, z)\n",
        "###################################\n",
        "\n",
        "decoder_input= Input(shape=(1,HIDDEN_UNITS))\n",
        "\n",
        "x = Dense(2000, name='encoder')(decoder_input)\t\t\n",
        "x = BatchNormalization(momentum=BN_M)(x)\n",
        "x = Activation(act)(x)\n",
        "if DO_RATE > 0:\n",
        "  x = Dropout(DO_RATE)(x)\n",
        "x = Dense(n_bars * intermediate)(x)\n",
        "x = Reshape((n_bars, intermediate))(x)\n",
        "x = TimeDistributed(BatchNormalization(momentum=BN_M))(x)\n",
        "x = Activation(act)(x)\n",
        "if DO_RATE > 0:\n",
        "  x = Dropout(DO_RATE)(x)\n",
        "#x = TimeDistributed(Dense(1000))(x)\n",
        "x = TimeDistributed(Dense(2800))(x)\n",
        "x = TimeDistributed(BatchNormalization(momentum=BN_M))(x)\n",
        "x = Activation(act)(x)\n",
        "if DO_RATE > 0:\n",
        "  x = Dropout(DO_RATE)(x)\n",
        "x = TimeDistributed(Dense(notes_range * time_steps_in_a_bar, activation='sigmoid'))(x) \n",
        "\n",
        "decoded = Reshape((slice_len,notes_range))(x)\n",
        "\n",
        "# Decoder Definition\n",
        "decoder = Model(decoder_input, decoded)\n",
        "\n",
        "\n",
        "autoencoder_input = Input(shape=(slice_len,notes_range))\n",
        "encoded = encoder(autoencoder_input)\n",
        "decoded = decoder(encoded)\n",
        "\n",
        "autoencoder = Model(autoencoder_input, decoded)\n",
        "\n",
        "autoencoder_loss = \"binary_crossentropy\""
      ],
      "execution_count": null,
      "outputs": [
        {
          "output_type": "stream",
          "text": [
            "WARNING: Logging before flag parsing goes to stderr.\n",
            "W0718 14:40:59.496839 140005983209344 deprecation_wrapper.py:119] From /usr/local/lib/python3.6/dist-packages/keras/backend/tensorflow_backend.py:74: The name tf.get_default_graph is deprecated. Please use tf.compat.v1.get_default_graph instead.\n",
            "\n",
            "W0718 14:40:59.544742 140005983209344 deprecation_wrapper.py:119] From /usr/local/lib/python3.6/dist-packages/keras/backend/tensorflow_backend.py:517: The name tf.placeholder is deprecated. Please use tf.compat.v1.placeholder instead.\n",
            "\n",
            "W0718 14:40:59.568309 140005983209344 deprecation_wrapper.py:119] From /usr/local/lib/python3.6/dist-packages/keras/backend/tensorflow_backend.py:4138: The name tf.random_uniform is deprecated. Please use tf.random.uniform instead.\n",
            "\n",
            "W0718 14:40:59.752106 140005983209344 deprecation_wrapper.py:119] From /usr/local/lib/python3.6/dist-packages/keras/backend/tensorflow_backend.py:133: The name tf.placeholder_with_default is deprecated. Please use tf.compat.v1.placeholder_with_default instead.\n",
            "\n",
            "W0718 14:40:59.914892 140005983209344 deprecation.py:506] From /usr/local/lib/python3.6/dist-packages/keras/backend/tensorflow_backend.py:3445: calling dropout (from tensorflow.python.ops.nn_ops) with keep_prob is deprecated and will be removed in a future version.\n",
            "Instructions for updating:\n",
            "Please use `rate` instead of `keep_prob`. Rate should be set to `rate = 1 - keep_prob`.\n"
          ],
          "name": "stderr"
        }
      ]
    },
    {
      "cell_type": "code",
      "metadata": {
        "id": "XEeapgIB9BoV",
        "colab": {
          "base_uri": "https://localhost:8080/",
          "height": 402
        },
        "outputId": "47a23d0b-d376-430a-d698-0eddce5ed4f9"
      },
      "source": [
        "history = compile_and_fit(\n",
        "    model = autoencoder,\n",
        "    train_data = x_train,\n",
        "    val_data = x_validation,\n",
        "    epochs = 300,\n",
        "    batch_size = 40,\n",
        "    loss = autoencoder_loss,\n",
        "    metrics = [\"mse\"],\n",
        "    optimizer = 'adam',#RMSprop(lr=0.00001),\n",
        "    path = \"./drive/My Drive/Stinc.hdf5\",\n",
        "    save = True,\n",
        "    load = False,\n",
        "    augmentation = xy_train_raw,\n",
        "    discretize = False,\n",
        "    shift_a_bar = True,\n",
        "    )\n",
        "\n",
        "\"val_loss: 0.0240 - val_mean_squared_error: 4.0643e-04\""
      ],
      "execution_count": null,
      "outputs": [
        {
          "output_type": "stream",
          "text": [
            "W0718 15:10:32.340953 140005983209344 warnings.py:99] /usr/local/lib/python3.6/dist-packages/ipykernel_launcher.py:279: UserWarning: The semantics of the Keras 2 argument `steps_per_epoch` is not the same as the Keras 1 argument `samples_per_epoch`. `steps_per_epoch` is the number of batches to draw from the generator at each epoch. Basically steps_per_epoch = samples_per_epoch/batch_size. Similarly `nb_val_samples`->`validation_steps` and `val_samples`->`steps` arguments have changed. Update your method calls accordingly.\n",
            "\n",
            "W0718 15:10:32.342189 140005983209344 warnings.py:99] /usr/local/lib/python3.6/dist-packages/ipykernel_launcher.py:279: UserWarning: Update your `fit_generator` call to the Keras 2 API: `fit_generator(generator=<generator..., steps_per_epoch=373, validation_data=<generator..., validation_steps=44, callbacks=[<keras.ca..., epochs=300)`\n",
            "\n"
          ],
          "name": "stderr"
        },
        {
          "output_type": "stream",
          "text": [
            "_________________________________________________________________\n",
            "Layer (type)                 Output Shape              Param #   \n",
            "=================================================================\n",
            "input_3 (InputLayer)         (None, 3072, 70)          0         \n",
            "_________________________________________________________________\n",
            "model_1 (Model)              (None, 200)               52622300  \n",
            "_________________________________________________________________\n",
            "model_2 (Model)              (None, 3072, 70)          52664720  \n",
            "=================================================================\n",
            "Total params: 105,287,020\n",
            "Trainable params: 105,276,020\n",
            "Non-trainable params: 11,000\n",
            "_________________________________________________________________\n",
            "None\n",
            "Epoch 1/300\n",
            "\n",
            "Slicing . . .\n"
          ],
          "name": "stdout"
        }
      ]
    },
    {
      "cell_type": "code",
      "metadata": {
        "id": "4jGXJu4TvCLz"
      },
      "source": [
        "\"\"\"\n",
        "Reconstruction test\n",
        "\"\"\"\n",
        "\n",
        "reconstruct(autoencoder, x_validation[0], threshold = 0.1)"
      ],
      "execution_count": null,
      "outputs": []
    },
    {
      "cell_type": "code",
      "metadata": {
        "id": "jgD3nHCbVXr3",
        "colab": {
          "base_uri": "https://localhost:8080/",
          "height": 321
        },
        "outputId": "fe4187e4-8d5e-4c6e-a5d4-290f7186fedb"
      },
      "source": [
        "\"\"\"\n",
        "Generation Preprocessing (PCA, ec...)\n",
        "\"\"\"\n",
        "\n",
        "generate_music, create_music, create_random_music, pca_scores = generation_preprocessing(\n",
        "    encoder,\n",
        "    decoder,\n",
        "    data = x_train+x_validation+x_test,\n",
        "    BATCH_SIZE = 100)"
      ],
      "execution_count": null,
      "outputs": [
        {
          "output_type": "stream",
          "text": [
            "latent space: 140\n",
            "encoding all the pieces . . .\n",
            "77/77 [==============================] - 3s 39ms/step\n"
          ],
          "name": "stdout"
        },
        {
          "output_type": "display_data",
          "data": {
            "image/png": "[encoded data removed]",
            "text/plain": [
              "<Figure size 432x288 with 1 Axes>"
            ]
          },
          "metadata": {
            "tags": []
          }
        }
      ]
    },
    {
      "cell_type": "code",
      "metadata": {
        "id": "2D-nlrbft8rT",
        "colab": {
          "base_uri": "https://localhost:8080/",
          "height": 286
        },
        "outputId": "be6d946a-17d9-4a1e-a4a5-c8863b4c869d"
      },
      "source": [
        "\"\"\"\n",
        "If you wanna see the PCs distribution\n",
        "\"\"\"\n",
        "\n",
        "#sns.distplot(pca_scores[:,0],)\n",
        "#sns.distplot(pca_scores[:,2])\n",
        "#sns.distplot(pca_scores[:,3])\n",
        "#sns.distplot(pca_scores[:,120])"
      ],
      "execution_count": null,
      "outputs": [
        {
          "output_type": "execute_result",
          "data": {
            "text/plain": [
              "<matplotlib.axes._subplots.AxesSubplot at 0x7f7980766f60>"
            ]
          },
          "metadata": {
            "tags": []
          },
          "execution_count": 25
        },
        {
          "output_type": "display_data",
          "data": {
            "image/png": "[encoded data removed]",
            "text/plain": [
              "<Figure size 432x288 with 1 Axes>"
            ]
          },
          "metadata": {
            "tags": []
          }
        }
      ]
    },
    {
      "cell_type": "code",
      "metadata": {
        "id": "IqAiiXdOVlm_",
        "colab": {
          "base_uri": "https://localhost:8080/",
          "height": 82
        },
        "outputId": "6e01c00e-bf0e-40bb-aba6-aaea3a25d475"
      },
      "source": [
        "\"\"\"\n",
        "Generation\n",
        "\"\"\"\n",
        "\n",
        "create_random_music(threshold=0.2, pca = True, seed = 0)\n",
        "#write_cutted_midi(generate_music([1,0.4,0.8,1,0.4,0.8]), \"ciao\")\n",
        "#create_music([-2,0.1,1.3,0.4,-0.5,-0.123,0.23,0.1,0.36,-0.1, 0.01, 0.6, -0.3, 0.5, 5, -1,-1, 9, -1, 0.6,-0.6,0,0,2,0.5], threshold=0.1, pca = True)"
      ],
      "execution_count": null,
      "outputs": [
        {
          "output_type": "display_data",
          "data": {
            "image/png": "[encoded data removed]",
            "text/plain": [
              "<Figure size 432x288 with 1 Axes>"
            ]
          },
          "metadata": {
            "tags": []
          }
        }
      ]
    }
  ]
}